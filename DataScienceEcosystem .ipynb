{
 "cells": [
  {
   "cell_type": "markdown",
   "id": "68117bb1",
   "metadata": {},
   "source": [
    "# Data Science Tools and Ecosystem"
   ]
  },
  {
   "cell_type": "markdown",
   "id": "ca25d7c8",
   "metadata": {},
   "source": [
    " In this notebook, Data Science Tools and Ecosystem are summarized."
   ]
  },
  {
   "cell_type": "markdown",
   "id": "663c3a07",
   "metadata": {},
   "source": [
    "Some of the popular languages that Data Scientists use are:\n",
    "    1. R\n",
    "    2. SQL\n",
    "    3. Python\n",
    "    4. C++\n",
    "    "
   ]
  },
  {
   "cell_type": "markdown",
   "id": "fe9857dd",
   "metadata": {},
   "source": [
    "Some of the commonly used libraries used by Data Scientists include:\n",
    "1. ggplot\n",
    "2. dplyr\n",
    "3. TensorFlow\n",
    "4. Matplotlib\n",
    "5. Pandas\n"
   ]
  },
  {
   "cell_type": "markdown",
   "id": "e0022926",
   "metadata": {},
   "source": [
    "|Data Sceience Tools|\n",
    "|---|\n",
    "Jupyter\n",
    "Rstudio\n",
    "Spyder\n",
    "\n",
    "\n"
   ]
  },
  {
   "cell_type": "markdown",
   "id": "daed866c",
   "metadata": {},
   "source": [
    "### Below are a few examples of evaluating arithmetic expressions in Python"
   ]
  },
  {
   "cell_type": "code",
   "execution_count": 7,
   "id": "264d6eb6",
   "metadata": {},
   "outputs": [
    {
     "data": {
      "text/plain": [
       "17"
      ]
     },
     "execution_count": 7,
     "metadata": {},
     "output_type": "execute_result"
    }
   ],
   "source": [
    "#This a simple arithmetic expression to mutiply then add integers\n",
    "(3*4)+5"
   ]
  },
  {
   "cell_type": "code",
   "execution_count": 8,
   "id": "5255118b",
   "metadata": {},
   "outputs": [
    {
     "data": {
      "text/plain": [
       "3.3333333333333335"
      ]
     },
     "execution_count": 8,
     "metadata": {},
     "output_type": "execute_result"
    }
   ],
   "source": [
    "#This will convert 200 minutes to hours by dividing by 60\n",
    "200/60"
   ]
  },
  {
   "cell_type": "markdown",
   "id": "62dee73b",
   "metadata": {},
   "source": [
    "**Objectives: \n",
    "- List popular data science languages\n",
    "- Create tables\n",
    "- List examples of data science libraries\n"
   ]
  },
  {
   "cell_type": "markdown",
   "id": "9b02632c",
   "metadata": {},
   "source": [
    "## Author\n",
    "Fati Fousseni"
   ]
  }
 ],
 "metadata": {
  "kernelspec": {
   "display_name": "Python 3 (ipykernel)",
   "language": "python",
   "name": "python3"
  },
  "language_info": {
   "codemirror_mode": {
    "name": "ipython",
    "version": 3
   },
   "file_extension": ".py",
   "mimetype": "text/x-python",
   "name": "python",
   "nbconvert_exporter": "python",
   "pygments_lexer": "ipython3",
   "version": "3.11.5"
  }
 },
 "nbformat": 4,
 "nbformat_minor": 5
}
