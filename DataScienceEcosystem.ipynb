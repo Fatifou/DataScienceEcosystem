{
 "cells": [
  {
   "cell_type": "markdown",
   "id": "6aca85df",
   "metadata": {},
   "source": [
    "# Data Science Tools and Ecosystem"
   ]
  },
  {
   "cell_type": "markdown",
   "id": "4d55555d",
   "metadata": {},
   "source": [
    " In this notebook, Data Science Tools and Ecosystem are summarized."
   ]
  },
  {
   "cell_type": "markdown",
   "id": "9332a83d",
   "metadata": {},
   "source": [
    "Some of the popular languages that Data Scientists use are:\n",
    "    1. R\n",
    "    2. SQL\n",
    "    3. Python\n",
    "    4. C++\n",
    "    "
   ]
  },
  {
   "cell_type": "markdown",
   "id": "b636adb8",
   "metadata": {},
   "source": [
    "Some of the commonly used libraries used by Data Scientists include:\n",
    "1. ggplot\n",
    "2. dplyr\n",
    "3. TensorFlow\n",
    "4. Matplotlib\n",
    "5. Pandas\n"
   ]
  },
  {
   "cell_type": "markdown",
   "id": "b96cd8d8",
   "metadata": {},
   "source": [
    "|Data Sceience Tools|\n",
    "|---|\n",
    "Jupyter\n",
    "Rstudio\n",
    "Spyder\n",
    "\n",
    "\n"
   ]
  },
  {
   "cell_type": "markdown",
   "id": "699ce0a3",
   "metadata": {},
   "source": [
    "### Below are a few examples of evaluating arithmetic expressions in Python"
   ]
  },
  {
   "cell_type": "code",
   "execution_count": 7,
   "id": "357e6420",
   "metadata": {},
   "outputs": [
    {
     "data": {
      "text/plain": [
       "17"
      ]
     },
     "execution_count": 7,
     "metadata": {},
     "output_type": "execute_result"
    }
   ],
   "source": [
    "#This a simple arithmetic expression to mutiply then add integers\n",
    "(3*4)+5"
   ]
  },
  {
   "cell_type": "code",
   "execution_count": 8,
   "id": "25d0c0fe",
   "metadata": {},
   "outputs": [
    {
     "data": {
      "text/plain": [
       "3.3333333333333335"
      ]
     },
     "execution_count": 8,
     "metadata": {},
     "output_type": "execute_result"
    }
   ],
   "source": [
    "#This will convert 200 minutes to hours by dividing by 60\n",
    "200/60"
   ]
  },
  {
   "cell_type": "markdown",
   "id": "243fff14",
   "metadata": {},
   "source": [
    "**Objectives: \n",
    "- List popular data science languages\n",
    "- Create tables\n",
    "- List examples of data science libraries\n"
   ]
  },
  {
   "cell_type": "markdown",
   "id": "7541fd2f",
   "metadata": {},
   "source": [
    "## Author\n",
    "Fati Fousseni"
   ]
  }
 ],
 "metadata": {
  "kernelspec": {
   "display_name": "Python 3 (ipykernel)",
   "language": "python",
   "name": "python3"
  },
  "language_info": {
   "codemirror_mode": {
    "name": "ipython",
    "version": 3
   },
   "file_extension": ".py",
   "mimetype": "text/x-python",
   "name": "python",
   "nbconvert_exporter": "python",
   "pygments_lexer": "ipython3",
   "version": "3.11.5"
  }
 },
 "nbformat": 4,
 "nbformat_minor": 5
}
